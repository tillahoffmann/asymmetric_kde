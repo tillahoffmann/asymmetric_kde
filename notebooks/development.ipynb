{
 "cells": [
  {
   "cell_type": "code",
   "execution_count": 69,
   "metadata": {
    "collapsed": false
   },
   "outputs": [],
   "source": [
    "import numbers\n",
    "import warnings\n",
    "from scipy.optimize import minimize_scalar\n",
    "from scipy.special import gammaln\n",
    "from scipy import stats\n",
    "\n",
    "class KernelDensityEstimator(object):\n",
    "    def __init__(self, X, bandwidth_method=None):\n",
    "        # Store all the values\n",
    "        self.X = np.asarray(X)\n",
    "        self.n = len(self.X)\n",
    "        self.bandwidth_method = bandwidth_method\n",
    "        \n",
    "        # Use cross-validation if desired\n",
    "        if bandwidth_method=='cross_validation':\n",
    "            self.bandwidth = self.cross_validation_optimisation()\n",
    "        \n",
    "    def evaluate_kernel(self, bandwidth, X, x):\n",
    "        raise NotImplementedError\n",
    "        \n",
    "    def evaluate_kernel_product_integral(self, bandwidth, X1, X2):\n",
    "        raise NotImplementedError\n",
    "        \n",
    "    def evaluate(self, x, bandwidth=None):\n",
    "        # Evaluate the density at all points\n",
    "        contributions = self.evaluate_kernel(bandwidth or self.bandwidth, \n",
    "                                             self.X, x)\n",
    "        # Sum up the contributions\n",
    "        return np.mean(contributions, axis=1)\n",
    "    \n",
    "    def cross_validation_score(self, bandwidth):\n",
    "        # Return something unpleasant for negative bandwidths\n",
    "        if bandwidth <= 0:\n",
    "            return np.inf\n",
    "        try:\n",
    "            # Evaluate the integral of the product of the kernels for all points\n",
    "            contributions = self.evaluate_kernel_product_integral(bandwidth, self.X, self.X)\n",
    "            score = np.mean(contributions)\n",
    "        except NotImplementedError:\n",
    "            raise NotImplementedError('`evaluate_kernel_product_integral` must be implemented for cross validation.')\n",
    "        # Evaluate the estimate at all data points\n",
    "        contributions = self.evaluate_kernel(bandwidth, self.X, self.X)\n",
    "        contributions[range(self.n), range(self.n)] = 0\n",
    "        # Obtain the part due to the linear terms in (3.35)\n",
    "        score -= 2 * np.sum(contributions) / (self.n * (self.n - 1))\n",
    "        return score\n",
    "    \n",
    "    def cross_validation_optimisation(self):\n",
    "        return minimize_scalar(self.cross_validation_score)['x']\n",
    "    \n",
    "class GaussianEstimator(KernelDensityEstimator):\n",
    "    def __init__(self, X, bandwidth_method='silverman'):\n",
    "        super(GaussianEstimator, self).__init__(X, bandwidth_method)\n",
    "        \n",
    "        if bandwidth_method=='silverman':\n",
    "            self.bandwidth = self.silverman()\n",
    "            \n",
    "    def silverman(self):\n",
    "        return 1.06 * np.std(self.X) * self.n ** -0.2\n",
    "        \n",
    "    def evaluate_kernel(self, bandwidth, X, x):\n",
    "        # Evaluate the exponent of the gaussian kernel\n",
    "        chi2 = (X[None, :] - x[:, None]) ** 2\n",
    "        # Exponentiate and apply normalisation\n",
    "        return np.exp(-.5 * chi2 / bandwidth**2) \\\n",
    "            / (np.sqrt(2 * np.pi) * bandwidth)\n",
    "        \n",
    "    def evaluate_kernel_product_integral(self, bandwidth, X1, X2):\n",
    "        return self.evaluate_kernel(np.sqrt(2) * bandwidth, X1, X2)\n",
    "    \n",
    "class ImproperGammaEstimator(KernelDensityEstimator):\n",
    "    def __init__(self, X, bandwidth_method='plugin'):\n",
    "        super(ImproperGammaEstimator, self).__init__(X, bandwidth_method)\n",
    "        \n",
    "        if bandwidth_method=='plugin':\n",
    "            self.bandwidth = self.plugin()\n",
    "            \n",
    "    def evaluate_kernel(self, bandwidth, X, x):\n",
    "        # Calculate the shape and scale parameters\n",
    "        theta = bandwidth ** 2\n",
    "        k = 1 + x[:, None] / theta\n",
    "        # Evaluate the gamma distribution\n",
    "        X = X[None, :]\n",
    "        loggamma = (k-1) * np.log(X) - X / theta - k * np.log(theta) - gammaln(k)\n",
    "        return np.exp(loggamma)\n",
    "    \n",
    "    def evaluate_kernel_product_integral(self, bandwidth, X1, X2):\n",
    "        # Calculate the shape and scale parameters\n",
    "        theta = bandwidth ** 2\n",
    "        k1 = 1 + X1[None, :] / theta\n",
    "        k2 = 1 + X2[:, None] / theta\n",
    "        # Evaluate\n",
    "        loggamma = (1 - k1 - k2) * np.log(2) + gammaln(k1 + k2 - 1) \\\n",
    "            - gammaln(k1) - gammaln(k2)\n",
    "        return np.exp(loggamma) / theta\n",
    "            \n",
    "    def plugin(self):\n",
    "        # Compute the logarithmic mean and variance\n",
    "        X = np.log(self.X)\n",
    "        mu = np.mean(X)\n",
    "        Sigma = np.std(X)\n",
    "        \n",
    "        return (2**0.8*np.exp(mu/2.)*Sigma)/(np.exp((17*Sigma**2)/8.)*self.n*(12 + 20*Sigma**2 + 9*Sigma**4))**0.2\n",
    "    \n",
    "    def plugin_score(self, bandwidth):\n",
    "        X = np.log(self.X)\n",
    "        mu = np.mean(X)\n",
    "        Sigma = np.std(X)\n",
    "        \n",
    "        return np.exp(-3*mu + Sigma**2/8.) \\\n",
    "                *((64*np.exp((5*mu)/2.))/self.n + \n",
    "                  (np.exp((17*Sigma**2)/8.)* bandwidth**5*(12 + 20*Sigma**2 + 9*Sigma**4))/Sigma**5) \\\n",
    "            /(128.*np.sqrt(np.pi)*bandwidth)"
   ]
  },
  {
   "cell_type": "code",
   "execution_count": 62,
   "metadata": {
    "collapsed": false
   },
   "outputs": [
    {
     "data": {
      "text/plain": [
       "[<matplotlib.lines.Line2D at 0x1141d0990>]"
      ]
     },
     "execution_count": 62,
     "metadata": {},
     "output_type": "execute_result"
    }
   ],
   "source": [
    "X = np.random.normal(size=100)\n",
    "kde = GaussianEstimator(X, 'cross_validation')\n",
    "x = np.linspace(-5, 5)\n",
    "\n",
    "plt.plot(x, kde.evaluate(x))\n",
    "plt.plot(x, kernel_gaussian(1, np.zeros(1), x).T)"
   ]
  },
  {
   "cell_type": "code",
   "execution_count": 110,
   "metadata": {
    "collapsed": false
   },
   "outputs": [
    {
     "data": {
      "text/plain": [
       "[<matplotlib.lines.Line2D at 0x122de8890>]"
      ]
     },
     "execution_count": 110,
     "metadata": {},
     "output_type": "execute_result"
    }
   ],
   "source": [
    "distribution = stats.lognorm(1, scale=3)\n",
    "X = distribution.rvs(size=500)\n",
    "kde = ImproperGammaEstimator(X, 'cross_validation')\n",
    "x = np.linspace(1e-4, 10)\n",
    "\n",
    "plt.plot(x, kde.evaluate(x))\n",
    "kde.bandwidth = kde.plugin()\n",
    "plt.plot(x, kde.evaluate(x))\n",
    "plt.plot(x, distribution.pdf(x))"
   ]
  },
  {
   "cell_type": "code",
   "execution_count": 121,
   "metadata": {
    "collapsed": false
   },
   "outputs": [],
   "source": [
    "runs = 200\n",
    "bandwidths = np.logspace(-2, 0, 50)\n",
    "distribution = stats.lognorm(1, scale=3)\n",
    "\n",
    "plugin_scores=[]\n",
    "cv_scores=[]\n",
    "\n",
    "for run in range(runs):\n",
    "    X = distribution.rvs(size=500)\n",
    "    kde = ImproperGammaEstimator(X, None)\n",
    "    plugin_scores.append([kde.plugin_score(bw) for bw in bandwidths])\n",
    "    cv_scores.append([kde.cross_validation_score(bw) for bw in bandwidths])"
   ]
  },
  {
   "cell_type": "code",
   "execution_count": 132,
   "metadata": {
    "collapsed": false
   },
   "outputs": [],
   "source": [
    "def plot_scores(scores, f=5, color='k', ax=None):\n",
    "    scores = np.asarray(scores)\n",
    "    ax = ax or plt.gca()\n",
    "    median = np.median(scores, axis=0)\n",
    "    lower = np.percentile(scores, f, axis=0)\n",
    "    upper = np.percentile(scores, 100-f, axis=0)\n",
    "    ax.plot(bandwidths, median, color=color)\n",
    "    ax.fill_between(bandwidths, lower, upper, alpha=.5, color=color)\n",
    "    ax.scatter(bandwidths[np.argmin(median)], np.min(median), color=color)\n",
    "    #idx = np.argmin(scores, axis=1)\n",
    "    #print idx, scores[:, idx]\n",
    "    #ax.scatter(bandwidths[idx], scores[0, idx])\n",
    "    \n",
    "plot_scores(plugin_scores)\n",
    "plot_scores(cv_scores, color='g')\n",
    "plt.xscale('log')"
   ]
  },
  {
   "cell_type": "code",
   "execution_count": 115,
   "metadata": {
    "collapsed": false
   },
   "outputs": [
    {
     "data": {
      "text/plain": [
       "<matplotlib.text.Text at 0x1221c90d0>"
      ]
     },
     "execution_count": 115,
     "metadata": {},
     "output_type": "execute_result"
    }
   ],
   "source": [
    "plt.plot(bandwidths, plugin_scores - np.min(plugin_scores), label='Plugin', ls='--', color='k')\n",
    "plt.plot(bandwidths, cv_scores - np.min(cv_scores), label='Cross-validation', color='k')\n",
    "plt.axvline(kde.cross_validation_optimisation(), color='k')\n",
    "plt.axvline(kde.plugin(), ls='--', color='k')\n",
    "plt.xscale('log')\n",
    "plt.legend(loc='best', frameon=False)\n",
    "plt.xlabel('Bandwidth')"
   ]
  },
  {
   "cell_type": "code",
   "execution_count": null,
   "metadata": {
    "collapsed": true
   },
   "outputs": [],
   "source": []
  }
 ],
 "metadata": {
  "kernelspec": {
   "display_name": "Python 2",
   "language": "python",
   "name": "python2"
  },
  "language_info": {
   "codemirror_mode": {
    "name": "ipython",
    "version": 2
   },
   "file_extension": ".py",
   "mimetype": "text/x-python",
   "name": "python",
   "nbconvert_exporter": "python",
   "pygments_lexer": "ipython2",
   "version": "2.7.10"
  }
 },
 "nbformat": 4,
 "nbformat_minor": 0
}
