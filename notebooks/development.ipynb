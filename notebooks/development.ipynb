{
 "cells": [
  {
   "cell_type": "code",
   "execution_count": 1,
   "metadata": {
    "collapsed": true
   },
   "outputs": [],
   "source": [
    "from scipy import stats"
   ]
  },
  {
   "cell_type": "code",
   "execution_count": 9,
   "metadata": {
    "collapsed": false
   },
   "outputs": [],
   "source": [
    "import numbers\n",
    "from scipy.optimize import minimize_scalar\n",
    "from scipy.special import gammaln\n",
    "from scipy.integrate import quad\n",
    "\n",
    "class KernelDensityEstimator(object):\n",
    "    def __init__(self, X, bandwidth_method=None, domain=None):\n",
    "        # Store all the values\n",
    "        self.X = np.asarray(X)\n",
    "        self.n = len(self.X)\n",
    "        self.bandwidth_method = bandwidth_method\n",
    "        # Store the domain\n",
    "        if domain is None:\n",
    "            self.domain = (-np.inf, np.inf)\n",
    "        else:\n",
    "            self.domain = domain\n",
    "        \n",
    "        # Use cross-validation if desired\n",
    "        if bandwidth_method=='cross_validation':\n",
    "            self.bandwidth = self.cross_validation_optimisation()\n",
    "        elif isinstance(self.bandwidth_method, numbers.Number):\n",
    "            self.bandwidth = self.bandwidth_method\n",
    "            self.bandwidth_method = 'numeric'\n",
    "            \n",
    "    def __call__(self, x, bandwidth=None):\n",
    "        return self.evaluate(x, bandwidth)\n",
    "        \n",
    "    def evaluate_kernel(self, bandwidth, X, x):\n",
    "        raise NotImplementedError\n",
    "        \n",
    "    def evaluate_kernel_product_integral(self, bandwidth, X1, X2):\n",
    "        assert len(X1) == self.n and len(X2) == self.n, \"The length of the data vectors must be identical.\"\n",
    "        # Create a container\n",
    "        contributions = np.zeros((self.n, self.n))\n",
    "        # Iterate over all combinations\n",
    "        for i in range(self.n):\n",
    "            for j in range(i, self.n):\n",
    "                integrand = lambda x: self.evaluate_kernel(bandwidth, X1[i], x) \\\n",
    "                    * self.evaluate_kernel(bandwidth, X2[j], x)\n",
    "                integral = quad(integrand, *self.domain)\n",
    "                contributions[i, j] = contributions[j, i] = integral[0]\n",
    "                \n",
    "        return contributions\n",
    "        \n",
    "    def evaluate(self, x, bandwidth=None):\n",
    "        # Evaluate the density at all points\n",
    "        contributions = self.evaluate_kernel(bandwidth or self.bandwidth, \n",
    "                                             self.X, x)\n",
    "        # Sum up the contributions\n",
    "        return np.mean(contributions, axis=1)\n",
    "    \n",
    "    def cross_validation_score(self, bandwidth):\n",
    "        # Return something unpleasant for negative bandwidths\n",
    "        if bandwidth <= 0:\n",
    "            return np.inf\n",
    "        try:\n",
    "            # Evaluate the integral of the product of the kernels for all points\n",
    "            contributions = self.evaluate_kernel_product_integral(bandwidth, self.X, self.X)\n",
    "            score = np.mean(contributions)\n",
    "        except NotImplementedError:\n",
    "            raise NotImplementedError('`evaluate_kernel_product_integral` must be implemented for cross validation.')\n",
    "        # Evaluate the estimate at all data points\n",
    "        contributions = self.evaluate_kernel(bandwidth, self.X, self.X)\n",
    "        contributions[range(self.n), range(self.n)] = 0\n",
    "        # Obtain the part due to the linear terms in (3.35)\n",
    "        score -= 2 * np.sum(contributions) / (self.n * (self.n - 1))\n",
    "        return score\n",
    "    \n",
    "    def cross_validation_optimisation(self):\n",
    "        return minimize_scalar(self.cross_validation_score)['x']\n",
    "    \n",
    "class GaussianEstimator(KernelDensityEstimator):\n",
    "    def __init__(self, X, bandwidth_method='silverman'):\n",
    "        super(GaussianEstimator, self).__init__(X, bandwidth_method)\n",
    "        \n",
    "        if bandwidth_method=='silverman':\n",
    "            self.bandwidth = self.silverman()\n",
    "            \n",
    "    def silverman(self):\n",
    "        return 1.06 * np.std(self.X) * self.n ** -0.2\n",
    "        \n",
    "    def evaluate_kernel(self, bandwidth, X, x):\n",
    "        # Evaluate the exponent of the gaussian kernel\n",
    "        chi2 = (X[None, :] - x[:, None]) ** 2\n",
    "        # Exponentiate and apply normalisation\n",
    "        return np.exp(-.5 * chi2 / bandwidth**2) \\\n",
    "            / (np.sqrt(2 * np.pi) * bandwidth)\n",
    "        \n",
    "    def evaluate_kernel_product_integral(self, bandwidth, X1, X2):\n",
    "        # This is much easier for a Gaussian kernel. No numerical integration needed.\n",
    "        return self.evaluate_kernel(np.sqrt(2) * bandwidth, X1, X2)\n",
    "    \n",
    "class VariableGaussianEstimator(KernelDensityEstimator):\n",
    "    def __init__(self, X, bandwidth_function, shift_function, bandwidth_method=None):\n",
    "        super(VariableGaussianEstimator, self).__init__(X, bandwidth_method, (0, np.inf))\n",
    "        self.bandwidth_function = bandwidth_function\n",
    "        self.shift_function = shift_function\n",
    "        \n",
    "    def evaluate_kernel(self, bandwidth, X, x):\n",
    "        # Evaluate the shift and variable bandwidth\n",
    "        shift = self.shift_function(bandwidth, X, x)\n",
    "        bandwidth = self.bandwidth_function(bandwidth, X, x)\n",
    "        # Evaluate the chi-square\n",
    "        chi2 = (X[None, :] - x[:, None] - shift) ** 2\n",
    "        return np.exp(-.5 * chi2 / bandwidth**2) \\\n",
    "            / (np.sqrt(2 * np.pi) * bandwidth)\n",
    "    \n",
    "class ImproperGammaEstimator(KernelDensityEstimator):\n",
    "    def __init__(self, X, bandwidth_method='plugin'):\n",
    "        super(ImproperGammaEstimator, self).__init__(X, bandwidth_method)\n",
    "        \n",
    "        if bandwidth_method=='plugin':\n",
    "            self.bandwidth = self.plugin()\n",
    "            \n",
    "    def to_variable_gaussian(self):\n",
    "        # Convert to a variable Gaussian estimator\n",
    "        shift_function = lambda bandwidth, _, _2: bandwidth * bandwidth\n",
    "        bandwidth_function = lambda bandwidth, _, x: bandwidth * np.sqrt(bandwidth * bandwidth + x[:, None])\n",
    "        variable = VariableGaussianEstimator(self.X, bandwidth_function, shift_function, self.bandwidth)\n",
    "        return variable\n",
    "            \n",
    "    def evaluate_kernel(self, bandwidth, X, x):\n",
    "        # Calculate the shape and scale parameters\n",
    "        theta = bandwidth ** 2\n",
    "        if isinstance(x, np.ndarray):\n",
    "            k = 1 + x[:, None] / theta\n",
    "        else:\n",
    "            k = 1 + x / theta\n",
    "        # Evaluate the gamma distribution\n",
    "        if isinstance(X, np.ndarray):\n",
    "            X = X[None, :]\n",
    "        loggamma = (k-1) * np.log(X) - X / theta - k * np.log(theta) - gammaln(k)\n",
    "        return np.exp(loggamma)\n",
    "            \n",
    "    def plugin(self):\n",
    "        # Compute the logarithmic mean and variance\n",
    "        X = np.log(self.X)\n",
    "        mu = np.mean(X)\n",
    "        Sigma = np.std(X)\n",
    "        \n",
    "        return (2**0.8*np.exp(mu/2.)*Sigma)/(np.exp((17*Sigma**2)/8.)*self.n*(12 + 20*Sigma**2 + 9*Sigma**4))**0.2\n",
    "    \n",
    "    def plugin_score(self, bandwidth):\n",
    "        X = np.log(self.X)\n",
    "        mu = np.mean(X)\n",
    "        Sigma = np.std(X)\n",
    "        \n",
    "        return np.exp(-3*mu + Sigma**2/8.) \\\n",
    "                *((64*np.exp((5*mu)/2.))/self.n + \n",
    "                  (np.exp((17*Sigma**2)/8.)* bandwidth**5*(12 + 20*Sigma**2 + 9*Sigma**4))/Sigma**5) \\\n",
    "            /(128.*np.sqrt(np.pi)*bandwidth)\n",
    "            \n",
    "class ProperGammaEstimator(KernelDensityEstimator):\n",
    "    def __init__(self, X, bandwidth_method='plugin'):\n",
    "        super(ProperGammaEstimator, self).__init__(X, bandwidth_method)\n",
    "        \n",
    "        if bandwidth_method=='plugin':\n",
    "            self.bandwidth = self.plugin()\n",
    "            \n",
    "    def to_variable_gaussian(self):\n",
    "        # Convert to a variable Gaussian estimator\n",
    "        shift_function = lambda bandwidth, _, _2: bandwidth * bandwidth\n",
    "        bandwidth_function = lambda bandwidth, _, x: bandwidth * np.sqrt(bandwidth * bandwidth + X[None, :])\n",
    "        variable = VariableGaussianEstimator(self.X, bandwidth_function, shift_function, self.bandwidth)\n",
    "        return variable\n",
    "            \n",
    "    def evaluate_kernel(self, bandwidth, X, x):\n",
    "        # Calculate the shape and scale parameters\n",
    "        theta = bandwidth ** 2\n",
    "        if isinstance(X, np.ndarray):\n",
    "            k = 1 + X[:, None] / theta\n",
    "        else:\n",
    "            k = 1 + X / theta\n",
    "        # Evaluate the gamma distribution\n",
    "        if isinstance(x, np.ndarray):\n",
    "            x = x[None, :]\n",
    "        loggamma = (k-1) * np.log(x) - x / theta - k * np.log(theta) - gammaln(k)\n",
    "        return np.exp(loggamma)\n",
    "    \n",
    "    def evaluate_kernel_product_integral(self, bandwidth, X1, X2):\n",
    "        # Calculate the shape and scale parameters\n",
    "        theta = bandwidth ** 2\n",
    "        k1 = 1 + X1[None, :] / theta\n",
    "        k2 = 1 + X2[:, None] / theta\n",
    "        # Evaluate\n",
    "        loggamma = (1 - k1 - k2) * np.log(2) + gammaln(k1 + k2 - 1) \\\n",
    "            - gammaln(k1) - gammaln(k2)\n",
    "        return np.exp(loggamma) / theta\n",
    "            \n",
    "    def plugin(self):\n",
    "        # Compute the logarithmic mean and variance\n",
    "        X = np.log(self.X)\n",
    "        mu = np.mean(X)\n",
    "        Sigma = np.std(X)\n",
    "        \n",
    "        return (2**0.8*np.exp(mu/2.)*Sigma)/(np.exp((17*Sigma**2)/8.)*self.n*(12 + 4*Sigma**2 + Sigma**4))**0.2\n",
    "    \n",
    "    def plugin_score(self, bandwidth):\n",
    "        X = np.log(self.X)\n",
    "        mu = np.mean(X)\n",
    "        Sigma = np.std(X)\n",
    "        \n",
    "        return (np.exp(-3*mu + Sigma**2/8.)*((64*np.exp((5*mu)/2.))/self.n + \n",
    "           (np.exp((17*Sigma**2)/8.)*bandwidth**5*(12 + 4*Sigma**2 + Sigma**4))/Sigma**5))/(128.*np.sqrt(np.pi)*bandwidth)"
   ]
  },
  {
   "cell_type": "markdown",
   "metadata": {},
   "source": [
    "# Simple Gaussian example"
   ]
  },
  {
   "cell_type": "code",
   "execution_count": 3,
   "metadata": {
    "collapsed": false
   },
   "outputs": [
    {
     "data": {
      "text/plain": [
       "[<matplotlib.lines.Line2D at 0x112e8d190>]"
      ]
     },
     "execution_count": 3,
     "metadata": {},
     "output_type": "execute_result"
    }
   ],
   "source": [
    "# Generate samples\n",
    "distribution = stats.norm()\n",
    "X = distribution.rvs(size=300)\n",
    "\n",
    "# Fit a density estimator\n",
    "kde = GaussianEstimator(X, 'cross_validation')\n",
    "\n",
    "# Plot the original distribution and the KDE\n",
    "x = np.linspace(-5, 5)\n",
    "plt.plot(x, kde(x))\n",
    "plt.plot(x, distribution.pdf(x))"
   ]
  },
  {
   "cell_type": "markdown",
   "metadata": {},
   "source": [
    "# Simple example for improper Gamma KDE"
   ]
  },
  {
   "cell_type": "code",
   "execution_count": 6,
   "metadata": {
    "collapsed": false
   },
   "outputs": [
    {
     "name": "stdout",
     "output_type": "stream",
     "text": [
      "0.97081406678 1.0265454538\n"
     ]
    }
   ],
   "source": [
    "# Generate samples\n",
    "np.random.seed(123)\n",
    "mu = 1\n",
    "Sigma = 1\n",
    "distribution = stats.lognorm(Sigma, scale=np.exp(mu))\n",
    "X = distribution.rvs(size=300)\n",
    "print np.mean(np.log(X)), np.std(np.log(X))\n",
    "\n",
    "# Fit a density estimator\n",
    "kde = ImproperGammaEstimator(X, 'plugin')\n",
    "\n",
    "# Plot the original distribution and KDEs\n",
    "x = np.linspace(1e-4, 15, 500)\n",
    "plt.plot(x, kde(x), color='k', label='Improper Gamma estimator')\n",
    "plt.plot(x, distribution.pdf(x), color='k', ls=':', label='Reference distribution')\n",
    "\n",
    "plt.scatter(X, np.zeros_like(X), marker='|', color='k')\n",
    "\n",
    "# Finally plot the approximation with a Gaussian\n",
    "kde_balloon = kde.to_variable_gaussian()\n",
    "plt.plot(x, kde_balloon.evaluate(x), color='k', ls='--', label='Gaussian approximation')\n",
    "\n",
    "plt.xlim(-1,15)\n",
    "plt.xlabel('Random variable $X$')\n",
    "plt.ylabel('Density')\n",
    "plt.legend(frameon=False, loc='best')\n",
    "plt.tight_layout()\n",
    "plt.savefig('../paper/improper-gamma.pdf')"
   ]
  },
  {
   "cell_type": "markdown",
   "metadata": {},
   "source": [
    "# Comparison of LOO cross-validation and plugin scores "
   ]
  },
  {
   "cell_type": "code",
   "execution_count": 25,
   "metadata": {
    "collapsed": false
   },
   "outputs": [
    {
     "name": "stdout",
     "output_type": "stream",
     "text": [
      "20 40 60 80 100 120 140 160 180 200 220 240 260 280 300 320 340 360 380 400 420 440 460 480 500 520 540 560 580 600 620 640 660 680 700 720 740 760 780 800 820 840 860 880 900 920 940 960 980 1000\n"
     ]
    }
   ],
   "source": [
    "# Define a reference distribution\n",
    "distribution = stats.lognorm(Sigma, scale=np.exp(mu))\n",
    "# Define a bandwidth range\n",
    "bandwidths = np.logspace(-2, 0, 50)\n",
    "\n",
    "# Define containers for the scores\n",
    "plugin_scores=[]\n",
    "cv_scores=[]\n",
    "\n",
    "# Iterate and evaluate the bandwidths\n",
    "runs = 1000\n",
    "for run in range(runs):\n",
    "    if (run + 1) % 20 == 0:\n",
    "        print run + 1,\n",
    "    # Generate data\n",
    "    X = distribution.rvs(size=300)\n",
    "    # Fit an estimator\n",
    "    kde = ProperGammaEstimator(X, None)\n",
    "    # Evaluate the scores of the quality function\n",
    "    plugin_scores.append([kde.plugin_score(bw) for bw in bandwidths])\n",
    "    cv_scores.append([kde.cross_validation_score(bw) for bw in bandwidths])"
   ]
  },
  {
   "cell_type": "code",
   "execution_count": 26,
   "metadata": {
    "collapsed": false
   },
   "outputs": [],
   "source": [
    "def plot_scores(scores, f=5, color='k', ls='-', offset=0, label=None, ax=None):\n",
    "    # Get default axes if none are given\n",
    "    ax = ax or plt.gca()\n",
    "    \n",
    "    # Get the median and the interval\n",
    "    scores = np.asarray(scores)\n",
    "    median = np.median(scores, axis=0)\n",
    "    # Adjust the offset\n",
    "    offset -= np.min(median)\n",
    "    median += offset\n",
    "    scores += offset\n",
    "    lower = np.percentile(scores, f, axis=0)\n",
    "    upper = np.percentile(scores, 100-f, axis=0)\n",
    "    \n",
    "    # Plot\n",
    "    ax.plot(bandwidths, median, color=color, ls=ls, label=label)\n",
    "    ax.fill_between(bandwidths, lower, upper, alpha=.25, color=color)\n",
    "    ax.scatter(bandwidths[np.argmin(median)], np.min(median), color=color)\n",
    "    \n",
    "plot_scores(plugin_scores, label='Plugin')\n",
    "plot_scores(cv_scores, ls='--', offset=0.07, label='Cross-validation')\n",
    "plt.xscale('log')\n",
    "plt.xlim(0, 1)\n",
    "plt.xlabel('Bandwidth $\\sigma$')\n",
    "plt.ylabel('MISE score (arbitrary offset)')\n",
    "plt.legend(loc='best', frameon=False)\n",
    "\n",
    "plt.tight_layout()\n",
    "plt.savefig('../paper/bandwidth-comparison.pdf')"
   ]
  },
  {
   "cell_type": "markdown",
   "metadata": {},
   "source": [
    "# Comparison of kernels"
   ]
  },
  {
   "cell_type": "code",
   "execution_count": 35,
   "metadata": {
    "collapsed": false
   },
   "outputs": [],
   "source": [
    "ts = 2 * np.arange(1, 5)\n",
    "x = np.linspace(0, 5, 200)\n",
    "    \n",
    "for t in ts:\n",
    "    k = t + 1\n",
    "    theta = 1.0 / t\n",
    "    y = stats.gamma.pdf(x, k, scale=theta)\n",
    "    plt.plot(x, y, color='k')\n",
    "    \n",
    "    mu = k * theta\n",
    "    sigma = np.sqrt(mu * theta)\n",
    "    y = stats.norm.pdf(x, mu, sigma)\n",
    "    plt.plot(x, y, color='r')"
   ]
  },
  {
   "cell_type": "code",
   "execution_count": null,
   "metadata": {
    "collapsed": true
   },
   "outputs": [],
   "source": []
  }
 ],
 "metadata": {
  "kernelspec": {
   "display_name": "Python 2",
   "language": "python",
   "name": "python2"
  },
  "language_info": {
   "codemirror_mode": {
    "name": "ipython",
    "version": 2
   },
   "file_extension": ".py",
   "mimetype": "text/x-python",
   "name": "python",
   "nbconvert_exporter": "python",
   "pygments_lexer": "ipython2",
   "version": "2.7.10"
  }
 },
 "nbformat": 4,
 "nbformat_minor": 0
}
