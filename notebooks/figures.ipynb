{
 "cells": [
  {
   "cell_type": "code",
   "execution_count": 6,
   "metadata": {
    "collapsed": true
   },
   "outputs": [],
   "source": [
    "from scipy.stats import norm"
   ]
  },
  {
   "cell_type": "code",
   "execution_count": 21,
   "metadata": {
    "collapsed": false
   },
   "outputs": [],
   "source": [
    "# Get some data\n",
    "X = np.random.gamma(3, size=5)\n",
    "x = np.linspace(0, 15)"
   ]
  },
  {
   "cell_type": "code",
   "execution_count": 29,
   "metadata": {
    "collapsed": true
   },
   "outputs": [],
   "source": [
    "# Define a kernel\n",
    "def balloon(x, X, h=1):\n",
    "    return np.asarray([norm.pdf(_x, X, h * np.sqrt(_x) + 1e-3)\n",
    "                       for _x in x])\n",
    "\n",
    "def smoothing(x, X, h=1):\n",
    "    return norm.pdf(x, X, h * np.sqrt(X) + 1e-3)"
   ]
  },
  {
   "cell_type": "code",
   "execution_count": 33,
   "metadata": {
    "collapsed": false
   },
   "outputs": [
    {
     "data": {
      "text/plain": [
       "[<matplotlib.lines.Line2D at 0x113acf550>]"
      ]
     },
     "execution_count": 33,
     "metadata": {},
     "output_type": "execute_result"
    }
   ],
   "source": [
    "fig = plt.figure()\n",
    "ax1 = fig.add_subplot(121)\n",
    "ax2 = fig.add_subplot(122, sharex=ax1, sharey=ax1)\n",
    "\n",
    "ax1.scatter(X, np.zeros_like(X), marker='|', color='k')\n",
    "ax2.scatter(X, np.zeros_like(X), marker='|', color='k')\n",
    "\n",
    "sum_balloon = 0\n",
    "sum_smoothing = 0\n",
    "h=1\n",
    "\n",
    "for _X in X:\n",
    "    kernel = balloon(x, _X, h) / len(X)\n",
    "    sum_balloon += kernel\n",
    "    ax1.plot(x, kernel, color='k', ls='--')\n",
    "    \n",
    "    kernel = smoothing(x, _X, h) / len(X)\n",
    "    sum_smoothing += kernel\n",
    "    ax2.plot(x, kernel, color='k', ls='--')\n",
    "    \n",
    "ax1.plot(x, sum_balloon, color='k')\n",
    "ax2.plot(x, sum_smoothing, color='k')"
   ]
  },
  {
   "cell_type": "code",
   "execution_count": null,
   "metadata": {
    "collapsed": true
   },
   "outputs": [],
   "source": []
  }
 ],
 "metadata": {
  "kernelspec": {
   "display_name": "Python 2",
   "language": "python",
   "name": "python2"
  },
  "language_info": {
   "codemirror_mode": {
    "name": "ipython",
    "version": 2
   },
   "file_extension": ".py",
   "mimetype": "text/x-python",
   "name": "python",
   "nbconvert_exporter": "python",
   "pygments_lexer": "ipython2",
   "version": "2.7.10"
  }
 },
 "nbformat": 4,
 "nbformat_minor": 0
}
