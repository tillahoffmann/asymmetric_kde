{
 "cells": [
  {
   "cell_type": "code",
   "execution_count": 1,
   "metadata": {
    "collapsed": true
   },
   "outputs": [],
   "source": [
    "from matplotlib import rcParams\n",
    "import matplotlib.pyplot as plt\n",
    "import numpy as np\n",
    "from scipy import stats\n",
    "from asymmetric_kde import ImproperGammaEstimator, ProperGammaEstimator\n",
    "from multiprocessing import Pool\n",
    "import copy_reg\n",
    "import types\n",
    "import pandas as pd\n",
    "\n",
    "seed = 123"
   ]
  },
  {
   "cell_type": "code",
   "execution_count": 2,
   "metadata": {
    "collapsed": false
   },
   "outputs": [],
   "source": [
    "def pmap(function, sequence, processes=None):\n",
    "    \"\"\"\n",
    "    Parallel map.\n",
    "    \"\"\"\n",
    "    pool = Pool(processes)\n",
    "    result = pool.map(function, sequence)\n",
    "    pool.close()\n",
    "    return result\n",
    "\n",
    "def _pickle_method(method):\n",
    "    func_name = method.im_func.__name__\n",
    "    obj = method.im_self\n",
    "    cls = method.im_class\n",
    "    return _unpickle_method, (func_name, obj, cls)\n",
    "\n",
    "def _unpickle_method(func_name, obj, cls):\n",
    "    for cls in cls.mro():\n",
    "        try:\n",
    "            func = cls.__dict__[func_name]\n",
    "        except KeyError:\n",
    "            pass\n",
    "        else:\n",
    "            break\n",
    "    return func.__get__(obj, cls)\n",
    "\n",
    "copy_reg.pickle(types.MethodType, _pickle_method, _unpickle_method)"
   ]
  },
  {
   "cell_type": "code",
   "execution_count": 3,
   "metadata": {
    "collapsed": false
   },
   "outputs": [],
   "source": [
    "# Set up the plotting parameters\n",
    "width_pt = 345\n",
    "width = width_pt / 72\n",
    "aspect = 3./4\n",
    "height = width * aspect\n",
    "\n",
    "rcParams['font.size'] = 9\n",
    "rcParams['legend.fontsize'] = 'medium'\n",
    "rcParams['figure.dpi'] = 160\n",
    "rcParams['axes.linewidth'] = rcParams['lines.linewidth'] = .75"
   ]
  },
  {
   "cell_type": "code",
   "execution_count": 4,
   "metadata": {
    "collapsed": false
   },
   "outputs": [],
   "source": [
    "# Generate samples\n",
    "np.random.seed(seed)\n",
    "log_mean = 1\n",
    "log_std = 1\n",
    "distribution = stats.lognorm(log_std, scale=np.exp(log_mean))\n",
    "samples = distribution.rvs(size=300)"
   ]
  },
  {
   "cell_type": "markdown",
   "metadata": {},
   "source": [
    "# Improper gamma estimator\n",
    "\n",
    "The code below estimates the density using an improper gamma kernel estimator as defined by Chen (2000)."
   ]
  },
  {
   "cell_type": "code",
   "execution_count": 5,
   "metadata": {
    "collapsed": true
   },
   "outputs": [],
   "source": [
    "# Fit a density estimator\n",
    "kde = ImproperGammaEstimator(samples, 'plugin')\n",
    "\n",
    "fig = plt.figure(figsize=(width, height))\n",
    "ax = fig.add_subplot(111)\n",
    "\n",
    "# Plot the original distribution and KDEs\n",
    "x = np.linspace(1e-4, 15, 500)\n",
    "ax.plot(x, kde(x), color='k', label='Improper gamma estimator')\n",
    "ax.plot(x, distribution.pdf(x), color='k', ls=':', label='Generating distribution')\n",
    "\n",
    "ax.scatter(samples, np.zeros_like(samples), marker='|', color='k')\n",
    "\n",
    "# Finally plot the approximation with a Gaussian\n",
    "kde_sample_smoothing = kde.to_variable_gaussian()\n",
    "ax.plot(x, kde_sample_smoothing.evaluate(x), color='k', ls='--', label='Gaussian approximation')\n",
    "\n",
    "ax.set_xlim(-1,15)\n",
    "ax.set_xlabel('Random variable $X$')\n",
    "ax.set_ylabel('Density')\n",
    "ax.legend(frameon=False, loc='best')\n",
    "fig.tight_layout()\n",
    "fig.savefig('paper/improper-gamma.pdf', bbox_inches='tight')\n",
    "fig.savefig('paper/improper-gamma.ps', bbox_inches='tight')\n",
    "fig.show()"
   ]
  },
  {
   "cell_type": "markdown",
   "metadata": {},
   "source": [
    "# Proper gamma estimator\n",
    "\n",
    "The code below estimates the density using a proper gamma kernel estimator as defined by Jeon and Kim (2014)."
   ]
  },
  {
   "cell_type": "code",
   "execution_count": 6,
   "metadata": {
    "collapsed": true
   },
   "outputs": [],
   "source": [
    "# Fit a density estimator\n",
    "kde = ProperGammaEstimator(samples, 'plugin')\n",
    "\n",
    "fig = plt.figure(figsize=(width, height))\n",
    "ax = fig.add_subplot(111)\n",
    "\n",
    "# Plot the original distribution and KDEs\n",
    "x = np.linspace(1e-4, 15, 500)\n",
    "ax.plot(x, kde(x), color='k', label='Proper gamma estimator')\n",
    "ax.plot(x, distribution.pdf(x), color='k', ls=':', label='Generating distribution')\n",
    "\n",
    "ax.scatter(samples, np.zeros_like(samples), marker='|', color='k')\n",
    "\n",
    "# Finally plot the approximation with a Gaussian\n",
    "kde_sample_smoothing = kde.to_variable_gaussian()\n",
    "ax.plot(x, kde_sample_smoothing.evaluate(x), color='k', ls='--', label='Gaussian approximation')\n",
    "\n",
    "ax.set_xlim(-1,15)\n",
    "ax.set_xlabel('Random variable $X$')\n",
    "ax.set_ylabel('Density')\n",
    "ax.legend(frameon=False, loc='best')\n",
    "fig.tight_layout()\n",
    "fig.savefig('paper/proper-gamma.pdf', bbox_inches='tight')\n",
    "fig.savefig('paper/proper-gamma.ps', bbox_inches='tight')\n",
    "fig.show()"
   ]
  },
  {
   "cell_type": "markdown",
   "metadata": {},
   "source": [
    "# Comparison of LOO and plugin method\n",
    "\n",
    "The code below generates 1000 realisations of 300 samples drawn from a lognormal distribution with logarithmic mean and variance equal to unity. For each realisation, it computes the MISE using leave-one-out (LOO) cross validation and the Gaussian approximation we have developed. The MISE curves are plotted with an aribtrary offset because we are only interested in the shape of the curves rather than their absolute value (which would be useful for performance evaluation of the estimator though)."
   ]
  },
  {
   "cell_type": "code",
   "execution_count": 7,
   "metadata": {
    "collapsed": false
   },
   "outputs": [
    {
     "name": "stdout",
     "output_type": "stream",
     "text": [
      "Evaluating cross-validation scores...\n",
      "50\n",
      "100\n",
      "150\n",
      "200\n",
      "250\n",
      "300\n",
      "350\n",
      "400\n",
      "450\n",
      "500\n",
      "550\n",
      "600\n",
      "650\n",
      "700\n",
      "750\n",
      "800\n",
      "850\n",
      "900\n",
      "950\n",
      "1000\n",
      "Done.\n"
     ]
    }
   ],
   "source": [
    "# Define a reference distribution\n",
    "distribution = stats.lognorm(log_std, scale=np.exp(log_mean))\n",
    "# Define a bandwidth range\n",
    "bandwidths = np.logspace(-2, 0, 50)\n",
    "\n",
    "# Define containers for the scores\n",
    "plugin_scores=[]\n",
    "cv_scores=[]\n",
    "\n",
    "# Iterate and evaluate the bandwidths\n",
    "runs = 1000\n",
    "print \"Evaluating cross-validation scores...\"\n",
    "for run in range(runs):\n",
    "    if (run + 1) % 50 == 0:\n",
    "        print run + 1\n",
    "    # Generate data\n",
    "    X = distribution.rvs(size=300)\n",
    "    # Fit an estimator\n",
    "    kde = ProperGammaEstimator(X, None)\n",
    "    # Evaluate the scores of the quality function\n",
    "    plugin_scores.append([kde.evaluate_asymptotic_score(bw) for bw in bandwidths])\n",
    "    cv_scores.append(pmap(kde.evaluate_cv_score, bandwidths))\n",
    "\n",
    "print \"Done.\""
   ]
  },
  {
   "cell_type": "code",
   "execution_count": 8,
   "metadata": {
    "collapsed": false
   },
   "outputs": [],
   "source": [
    "def plot_scores(scores, f=5, color='k', ls='-', offset=0, label=None, ax=None):\n",
    "    # Get default axes if none are given\n",
    "    ax = ax or plt.gca()\n",
    "\n",
    "    # Get the median and the interval\n",
    "    scores = np.asarray(scores)\n",
    "    median = np.median(scores, axis=0)\n",
    "    # Adjust the offset\n",
    "    offset -= np.min(median)\n",
    "    median += offset\n",
    "    scores += offset\n",
    "    lower = np.percentile(scores, f, axis=0)\n",
    "    upper = np.percentile(scores, 100-f, axis=0)\n",
    "\n",
    "    # Plot\n",
    "    ax.fill_between(bandwidths, lower, upper, color='silver')\n",
    "    ax.plot(bandwidths, median, color=color, ls=ls, label=label)\n",
    "    ax.scatter(bandwidths[np.argmin(median)], np.min(median), 10, color=color)\n",
    "\n",
    "fig = plt.figure(figsize=(width, height))\n",
    "ax = fig.add_subplot(111)\n",
    "\n",
    "plot_scores(plugin_scores, label='Plugin', ax=ax)\n",
    "plot_scores(cv_scores, ls='--', offset=0.07, label='LOO cross-validation', ax=ax)\n",
    "ax.set_xscale('log')\n",
    "ax.set_xlim(0, 1)\n",
    "ax.set_xlabel('Bandwidth $\\sigma$')\n",
    "ax.set_ylabel('MISE score (arbitrary offset)')\n",
    "ax.legend(loc='best', frameon=False)\n",
    "\n",
    "fig.tight_layout()\n",
    "fig.savefig('paper/bandwidth-comparison.pdf', bbox_inches='tight')\n",
    "fig.savefig('paper/bandwidth-comparison.ps', bbox_inches='tight')\n",
    "fig.show()"
   ]
  },
  {
   "cell_type": "markdown",
   "metadata": {},
   "source": [
    "# Mitochondrial nucleoids\n",
    "\n",
    "The following code performs density estimation for the number of mitochondrial nucleoids observed in some cells. Data were collected by Juvid Aryaman and Hanne Hoitzing--thanks."
   ]
  },
  {
   "cell_type": "code",
   "execution_count": 9,
   "metadata": {
    "collapsed": false
   },
   "outputs": [],
   "source": [
    "# Load the data\n",
    "filename = 'data/ddc_0.dat'\n",
    "samples = np.loadtxt(filename)"
   ]
  },
  {
   "cell_type": "code",
   "execution_count": 10,
   "metadata": {
    "collapsed": false
   },
   "outputs": [
    {
     "name": "stdout",
     "output_type": "stream",
     "text": [
      "Plugin bandwidth: 1.01989555293\n"
     ]
    },
    {
     "data": {
      "text/plain": [
       "<matplotlib.collections.PathCollection at 0x11b32d8d0>"
      ]
     },
     "execution_count": 10,
     "metadata": {},
     "output_type": "execute_result"
    }
   ],
   "source": [
    "# Create a figure\n",
    "fig = plt.figure(figsize=(width, height))\n",
    "ax = fig.add_subplot(111)\n",
    "\n",
    "# Fit a KDE using the plugin method\n",
    "x = np.linspace(1e-4, np.max(samples), 500)\n",
    "kde = ProperGammaEstimator(samples, 'plugin')\n",
    "print \"Plugin bandwidth: {}\".format(kde.bandwidth)\n",
    "ax.plot(x, kde(x), color='k', label='Plugin')\n",
    "\n",
    "# Rug plot\n",
    "ax.scatter(samples, np.zeros_like(samples), marker='|', color='k')\n",
    "\n",
    "# ax.legend(loc=0, frameon=False)"
   ]
  },
  {
   "cell_type": "code",
   "execution_count": 11,
   "metadata": {
    "collapsed": false
   },
   "outputs": [],
   "source": [
    "# Obtain MISE profiles\n",
    "dict_bandwidths = {\n",
    "    'data/ddc_0.dat': np.logspace(np.log10(.07), np.log10(3)),\n",
    "    'data/ddc_3.dat': np.logspace(np.log10(.1), 0),\n",
    "    'data/ddc_10.dat': np.logspace(np.log10(.1), 0, 20),\n",
    "    'data/ddc_25.dat': np.logspace(np.log10(.1), 0, 20),\n",
    "}\n",
    "bandwidths = dict_bandwidths[filename]\n",
    "\n",
    "# Create a density estimator without bandwidth selection\n",
    "dummy = ProperGammaEstimator(samples, None)\n",
    "# Obtain profiles\n",
    "mise_plugin = [dummy.evaluate_asymptotic_score(bw) for bw in bandwidths]\n",
    "mise_cv = pmap(dummy.evaluate_cv_score, bandwidths)"
   ]
  },
  {
   "cell_type": "code",
   "execution_count": 12,
   "metadata": {
    "collapsed": false
   },
   "outputs": [
    {
     "name": "stdout",
     "output_type": "stream",
     "text": [
      "Plugin bandwidth: 1.01989555293\n"
     ]
    }
   ],
   "source": [
    "fig, (ax1, ax2) = plt.subplots(1, 2, figsize=(width, height))\n",
    "\n",
    "# Fit a KDE using the plugin method\n",
    "x = np.linspace(1e-4, np.max(samples), 500)\n",
    "kde = ProperGammaEstimator(samples, 'plugin')\n",
    "print \"Plugin bandwidth: {}\".format(kde.bandwidth)\n",
    "ax1.plot(x, kde(x), color='k', label='Proper gamma')\n",
    "\n",
    "# Rug plot\n",
    "ax1.scatter(samples, np.zeros_like(samples), marker='|', color='k',\n",
    "            alpha=.1)\n",
    "# Labels\n",
    "ax1.set_ylabel('Density')\n",
    "ax1.set_xlabel('Nucleoid count')\n",
    "\n",
    "# Show the profiles\n",
    "offset = 2e-4\n",
    "ax2.plot(bandwidths, mise_plugin - np.min(mise_plugin) + offset, color='k', \n",
    "         label='Plugin')\n",
    "ax2.plot(bandwidths, mise_cv - np.min(mise_cv), color='k', ls='--',\n",
    "         label='LOO')\n",
    "ax2.scatter(kde.bandwidth, offset, 10, color='k')\n",
    "ax2.set_xscale('log')\n",
    "ax2.legend(loc=0, frameon=False)\n",
    "ax2.set_yticks([])\n",
    "ax2.set_xlabel('Bandwidth $\\sigma$')\n",
    "ax2.set_ylabel('MISE')\n",
    "ax2.set_xlim(.05, 5)\n",
    "\n",
    "fig.tight_layout()\n",
    "fig.savefig('paper/nucleoid_0.pdf')"
   ]
  },
  {
   "cell_type": "code",
   "execution_count": 13,
   "metadata": {
    "collapsed": false
   },
   "outputs": [],
   "source": [
    "fig, axes = plt.subplots(2, 2, True, True, figsize=(width, height))\n",
    "\n",
    "filenames = ['data/ddc_0.dat', 'data/ddc_3.dat', \n",
    "             'data/ddc_10.dat', 'data/ddc_25.dat']\n",
    "concentrations = [0, 3, 10, 25]\n",
    "\n",
    "for i, (filename, ax) in enumerate(zip(filenames, axes.ravel())):\n",
    "    samples = np.loadtxt(filename)\n",
    "    kde = ProperGammaEstimator(samples, 'plugin')\n",
    "    x = np.linspace(1e-4, 200, 500)\n",
    "    ax.plot(x, kde(x), color='k')\n",
    "    ax.scatter(samples, np.zeros_like(samples), marker='|', color='k',\n",
    "            alpha=.1)\n",
    "    if i % 2 == 0:\n",
    "        ax.set_ylabel('Density')\n",
    "    if i > 1:\n",
    "        ax.set_xlabel('Nucleoids')\n",
    "        \n",
    "    ax.set_xlim(-10, 200)\n",
    "    \n",
    "    ax.text(.95, .95, u'ddC concentration {}µM'.format(concentrations[i]),\n",
    "            transform=ax.transAxes, ha='right', va='top')\n",
    "        \n",
    "fig.tight_layout()\n",
    "fig.savefig('paper/nucleoids.pdf')"
   ]
  },
  {
   "cell_type": "markdown",
   "metadata": {},
   "source": [
    "# Nano particle sizes"
   ]
  },
  {
   "cell_type": "code",
   "execution_count": 14,
   "metadata": {
    "collapsed": false
   },
   "outputs": [
    {
     "name": "stdout",
     "output_type": "stream",
     "text": [
      "Plugin bandwidth: 0.0893410085052\n",
      "Plugin bandwidth: 0.132003063291\n",
      "Plugin bandwidth: 0.107830184547\n",
      "Plugin bandwidth: 0.157367001078\n",
      "Plugin bandwidth: 0.357098596814\n",
      "Plugin bandwidth: 0.254730665917\n",
      "Plugin bandwidth: 0.266774181792\n"
     ]
    }
   ],
   "source": [
    "sheets = ['MBG15', 'MBG3', 'Manchester', 'MBG14', 'MBG70H', 'MBG61H', 'MBG61']\n",
    "\n",
    "for sheet in sheets:\n",
    "    filename = 'data/particles.xlsx'\n",
    "    samples = pd.read_excel(filename, sheet, header=None).values.ravel()\n",
    "\n",
    "    # Create a figure\n",
    "    fig = plt.figure(figsize=(width, height))\n",
    "    ax = fig.add_subplot(111)\n",
    "    ax.set_title(sheet)\n",
    "\n",
    "    # Fit a KDE using the plugin method\n",
    "    x = np.linspace(1e-4, np.max(samples), 500)\n",
    "    kde = ProperGammaEstimator(samples, 'plugin')\n",
    "    print \"Plugin bandwidth: {}\".format(kde.bandwidth)\n",
    "    ax.plot(x, kde(x), color='k', label='Plugin')\n",
    "\n",
    "    # Rug plot\n",
    "    ax.scatter(samples, np.zeros_like(samples), marker='|', color='k')\n",
    "\n",
    "    # ax.legend(loc=0, frameon=False)"
   ]
  }
 ],
 "metadata": {
  "kernelspec": {
   "display_name": "Python 2",
   "language": "python",
   "name": "python2"
  },
  "language_info": {
   "codemirror_mode": {
    "name": "ipython",
    "version": 2
   },
   "file_extension": ".py",
   "mimetype": "text/x-python",
   "name": "python",
   "nbconvert_exporter": "python",
   "pygments_lexer": "ipython2",
   "version": "2.7.11"
  }
 },
 "nbformat": 4,
 "nbformat_minor": 0
}
